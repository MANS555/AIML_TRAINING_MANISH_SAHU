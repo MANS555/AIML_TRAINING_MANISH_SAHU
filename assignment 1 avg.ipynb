{
  "nbformat": 4,
  "nbformat_minor": 0,
  "metadata": {
    "colab": {
      "provenance": [],
      "authorship_tag": "ABX9TyOJxmgS7FyGQrwQ4DtqqgYo",
      "include_colab_link": true
    },
    "kernelspec": {
      "name": "python3",
      "display_name": "Python 3"
    },
    "language_info": {
      "name": "python"
    }
  },
  "cells": [
    {
      "cell_type": "markdown",
      "metadata": {
        "id": "view-in-github",
        "colab_type": "text"
      },
      "source": [
        "<a href=\"https://colab.research.google.com/github/MANS555/AIML_TRAINING_MANISH_SAHU/blob/main/assignment%201%20avg.ipynb\" target=\"_parent\"><img src=\"https://colab.research.google.com/assets/colab-badge.svg\" alt=\"Open In Colab\"/></a>"
      ]
    },
    {
      "cell_type": "markdown",
      "source": [
        "Assignment 1"
      ],
      "metadata": {
        "id": "qNv4Yy4peVo-"
      }
    },
    {
      "cell_type": "code",
      "execution_count": 1,
      "metadata": {
        "id": "Wi81oIQPeJD4"
      },
      "outputs": [],
      "source": [
        "import cv2\n",
        "import numpy as np\n",
        "import matplotlib.pyplot as plt"
      ]
    },
    {
      "cell_type": "code",
      "source": [
        "import matplotlib.image as img\n"
      ],
      "metadata": {
        "id": "epQVo1jPpeAG"
      },
      "execution_count": 17,
      "outputs": []
    },
    {
      "cell_type": "code",
      "source": [
        "import torch\n",
        "from torch.nn import Conv2d"
      ],
      "metadata": {
        "id": "pzngUVoKeSxI"
      },
      "execution_count": 15,
      "outputs": []
    },
    {
      "cell_type": "code",
      "source": [
        "import cv2\n",
        "import numpy as np\n",
        "\n",
        "\n",
        "# Read the image\n",
        "img = cv2.imread('avg.jpg', 0)\n",
        "\n",
        "# Obtain number of rows and columns\n",
        "# of the image\n",
        "m, n = img.shape\n",
        "\n",
        "# Develop Averaging filter(3, 3) mask\n",
        "mask = np.ones([3, 3], dtype = int)\n",
        "mask = mask / 9\n",
        "\n",
        "# Convolve the 3X3 mask over the image\n",
        "img_new = np.zeros([m, n])\n",
        "\n",
        "for i in range(1, m-1):\n",
        "    for j in range(1, n-1):\n",
        "        temp = img[i-1, j-1]*mask[0, 0]+img[i-1, j]*mask[0, 1]+img[i-1, j + 1]*mask[0, 2]+img[i, j-1]*mask[1, 0]+ img[i, j]*mask[1, 1]+img[i, j + 1]*mask[1, 2]+img[i + 1, j-1]*mask[2, 0]+img[i + 1, j]*mask[2, 1]+img[i + 1, j + 1]*mask[2, 2]\n",
        "\n",
        "        img_new[i, j]= temp\n",
        "\n",
        "img_new = img_new.astype(np.uint8)\n",
        "cv2.imwrite('blurred.tif', img_new)\n",
        "print(img_new)\n",
        "plt.show()"
      ],
      "metadata": {
        "colab": {
          "base_uri": "https://localhost:8080/"
        },
        "id": "gS5YupCDlW4Y",
        "outputId": "23ac02f6-d904-49aa-d94c-580ef9ba2eab"
      },
      "execution_count": 21,
      "outputs": [
        {
          "output_type": "stream",
          "name": "stdout",
          "text": [
            "[[  0   0   0 ...   0   0   0]\n",
            " [  0  87 127 ...  13   9   0]\n",
            " [  0 129 187 ...  19  14   0]\n",
            " ...\n",
            " [  0  12  18 ... 143  95   0]\n",
            " [  0   8  12 ...  93  62   0]\n",
            " [  0   0   0 ...   0   0   0]]\n"
          ]
        }
      ]
    }
  ]
}