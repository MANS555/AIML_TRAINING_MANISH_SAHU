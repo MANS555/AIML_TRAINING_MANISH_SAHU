{
  "nbformat": 4,
  "nbformat_minor": 0,
  "metadata": {
    "colab": {
      "provenance": [],
      "toc_visible": true,
      "authorship_tag": "ABX9TyNgAwItuvuFqY264Qcez2YO",
      "include_colab_link": true
    },
    "kernelspec": {
      "name": "python3",
      "display_name": "Python 3"
    },
    "language_info": {
      "name": "python"
    }
  },
  "cells": [
    {
      "cell_type": "markdown",
      "metadata": {
        "id": "view-in-github",
        "colab_type": "text"
      },
      "source": [
        "<a href=\"https://colab.research.google.com/github/MANS555/AIML_TRAINING_MANISH_SAHU/blob/main/smooth.ipynb\" target=\"_parent\"><img src=\"https://colab.research.google.com/assets/colab-badge.svg\" alt=\"Open In Colab\"/></a>"
      ]
    },
    {
      "cell_type": "code",
      "execution_count": 1,
      "metadata": {
        "colab": {
          "base_uri": "https://localhost:8080/"
        },
        "id": "sF5c8OHyxxuC",
        "outputId": "32cd87bf-ca15-4a15-85d3-25d32e404093"
      },
      "outputs": [
        {
          "output_type": "stream",
          "name": "stdout",
          "text": [
            "--2023-10-03 18:29:17--  https://github.com/MANS555/AIML_TRAINING_MANISH_SAHU/blob/main/IMG_1784.JPG\n",
            "Resolving github.com (github.com)... 192.30.255.113\n",
            "Connecting to github.com (github.com)|192.30.255.113|:443... connected.\n",
            "HTTP request sent, awaiting response... 200 OK\n",
            "Length: 4493 (4.4K) [text/plain]\n",
            "Saving to: ‘IMG_1784.JPG’\n",
            "\n",
            "\rIMG_1784.JPG          0%[                    ]       0  --.-KB/s               \rIMG_1784.JPG        100%[===================>]   4.39K  --.-KB/s    in 0s      \n",
            "\n",
            "2023-10-03 18:29:17 (52.9 MB/s) - ‘IMG_1784.JPG’ saved [4493/4493]\n",
            "\n"
          ]
        }
      ],
      "source": [
        "!wget https://github.com/MANS555/AIML_TRAINING_MANISH_SAHU/blob/main/IMG_1784.JPG"
      ]
    },
    {
      "cell_type": "code",
      "source": [
        "import numpy as np\n",
        "import cv2\n",
        "from matplotlib import pyplot as plt\n",
        "\n",
        "figsize = (10, 10)"
      ],
      "metadata": {
        "id": "iW2pPj4xzPE2"
      },
      "execution_count": 2,
      "outputs": []
    },
    {
      "cell_type": "code",
      "execution_count": 5,
      "metadata": {
        "execution": {
          "iopub.execute_input": "2021-10-20T08:42:37.355300Z",
          "iopub.status.busy": "2021-10-20T08:42:37.355300Z",
          "iopub.status.idle": "2021-10-20T08:42:37.592031Z",
          "shell.execute_reply": "2021-10-20T08:42:37.592031Z"
        },
        "id": "zZpgPGCbxNfx"
      },
      "outputs": [],
      "source": [
        "def plot_im(img, title):\n",
        "    plt.figure(figsize=figsize)\n",
        "    plt.imshow(img)\n",
        "    plt.title(title)\n",
        "    plt.xticks([])\n",
        "    plt.yticks([])\n",
        "    plt.show()"
      ]
    },
    {
      "cell_type": "code",
      "execution_count": 8,
      "metadata": {
        "execution": {
          "iopub.execute_input": "2021-10-20T08:42:37.597027Z",
          "iopub.status.busy": "2021-10-20T08:42:37.596279Z",
          "iopub.status.idle": "2021-10-20T08:42:38.192028Z",
          "shell.execute_reply": "2021-10-20T08:42:38.192028Z"
        },
        "id": "Hd1fOTIwxNfz"
      },
      "outputs": [],
      "source": [
        "def mean_kernel_smoothing(img, sz):\n",
        "    kernel = np.ones((sz, sz)) / (sz ** 2)\n",
        "    dst = cv2.filter2D(img, -1, kernel)\n",
        "    plt.show()"
      ]
    },
    {
      "cell_type": "markdown",
      "source": [
        "# New Section"
      ],
      "metadata": {
        "id": "ohJLH6lK22J_"
      }
    }
  ]
}